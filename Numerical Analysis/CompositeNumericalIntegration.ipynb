{
 "cells": [
  {
   "cell_type": "code",
   "execution_count": 11,
   "id": "34dac554",
   "metadata": {},
   "outputs": [
    {
     "name": "stdout",
     "output_type": "stream",
     "text": [
      "Composite Trapezoidal rule: 3.159475674259824\n",
      "Composite Simpson's rule: 3.109337126508865\n",
      "Composite Midpoint rule: 3.009060031006947\n"
     ]
    }
   ],
   "source": [
    "import numpy as np;\n",
    "\n",
    "def f(x):\n",
    "    return x**2 * np.log(x**2 + 1);\n",
    "\n",
    "def trapezoidal(f, a, b, h):\n",
    "    n = int((b - a) // h);\n",
    "    x0 = f(a) + f(b);\n",
    "    x1 = 0;\n",
    "    for i in range(1, n):\n",
    "        x = a+i*h\n",
    "        x1 += f(x);\n",
    "    x = h*(x0+2*x1)/2;\n",
    "    \n",
    "    return x;\n",
    "    \n",
    "def simpson(f, a, b, h):\n",
    "    n = int((b - a) // h);\n",
    "    x0 = f(a) + f(b);\n",
    "    x1 = 0; x2 = 0;\n",
    "    for i in range(1, n):\n",
    "        x = a+i*h\n",
    "        if i&1:\n",
    "            x1 += f(x);\n",
    "        else:\n",
    "            x2 += f(x);\n",
    "    x = h*(x0+2*x2+4*x1)/3;\n",
    "    \n",
    "    return x;\n",
    "    \n",
    "def midpoint(f, a, b, h):\n",
    "    n = int((b - a) // h - 2);\n",
    "    x1 = 0\n",
    "    for i in range(0, n + 1, 2):\n",
    "        x = a+(i + 1)*h;\n",
    "        x1 += f(x);\n",
    "    x = 2*h*x1;\n",
    "    \n",
    "    return x;\n",
    "\n",
    "print(\"Composite Trapezoidal rule: {}\".format(trapezoidal(f, 0, 2, 0.25)))\n",
    "print(\"Composite Simpson's rule: {}\".format(simpson(f, 0, 2, 0.25)))\n",
    "print(\"Composite Midpoint rule: {}\".format(midpoint(f, 0, 2, 0.25)))"
   ]
  },
  {
   "cell_type": "code",
   "execution_count": null,
   "id": "1e57d094",
   "metadata": {},
   "outputs": [],
   "source": []
  }
 ],
 "metadata": {
  "kernelspec": {
   "display_name": "Python 3 (ipykernel)",
   "language": "python",
   "name": "python3"
  },
  "language_info": {
   "codemirror_mode": {
    "name": "ipython",
    "version": 3
   },
   "file_extension": ".py",
   "mimetype": "text/x-python",
   "name": "python",
   "nbconvert_exporter": "python",
   "pygments_lexer": "ipython3",
   "version": "3.10.7"
  }
 },
 "nbformat": 4,
 "nbformat_minor": 5
}
