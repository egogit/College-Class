{
 "cells": [
  {
   "cell_type": "code",
   "execution_count": null,
   "id": "8ffde78c",
   "metadata": {},
   "outputs": [],
   "source": [
    "import numpy as np;\n",
    "\n",
    "def f(x):\n",
    "    return np.cos(x) - 3*x + 1;\n",
    "    \n",
    "def g(x):\n",
    "    return x - f(x);\n",
    "\n",
    "def fixedPointIter(p0, tol, maxit):\n",
    "    i = 1;\n",
    "    \n",
    "    while (i <= maxit):\n",
    "        p = g(p0);\n",
    "        if abs(p0-p) < tol:\n",
    "            return p;\n",
    "        i += 1;\n",
    "        p0 = p;\n",
    "print(fixedPointIter(0, 0.0001, 1000));"
   ]
  },
  {
   "cell_type": "code",
   "execution_count": 30,
   "id": "0593e239",
   "metadata": {},
   "outputs": [
    {
     "name": "stdout",
     "output_type": "stream",
     "text": [
      "2.a_g1\n",
      "[p0,p1,p2,p3]: [1.         1.18920712 1.08005775 1.14967143 1.10782053]\n",
      "2.a_g2\n",
      "[p0,p1,p2,p3]: [1.         1.22474487 0.99366616 1.22856865 0.98750643]\n",
      "2.a_g3\n",
      "[p0,p1,p2,p3]: [1.         1.15470054 1.11642741 1.12605223 1.12363888]\n",
      "2.a_g4\n",
      "[p0,p1,p2,p3]: [1.         1.14285714 1.12448169 1.12412316 1.12412303]\n"
     ]
    }
   ],
   "source": [
    "import numpy as np;\n",
    "\n",
    "def f(x):\n",
    "    return x**4 + 2 * x**2 - x - 3;\n",
    "\n",
    "def g1(x):\n",
    "    return (3 + x - 2 * x**2)**(1/4);\n",
    "\n",
    "def g2(x):\n",
    "    return ((x + 3 - x**4) / 2)**(1 / 2);\n",
    "\n",
    "def g3(x):\n",
    "    return ((x + 3) / (x**2 + 2))**(1 / 2);\n",
    "\n",
    "def g4(x):\n",
    "    return (3 * x**4 + 2 * x**2 + 3) / (4 * x**3 + 4 * x -1);\n",
    "\n",
    "\n",
    "def fixedPointIter(f, p0, maxit):\n",
    "    iter = 1;\n",
    "    pArr = [p0];\n",
    "    \n",
    "    while(iter <= maxit):\n",
    "        p = f(p0);\n",
    "        p0 = p;\n",
    "        pArr.append(p0);\n",
    "        iter += 1;\n",
    "    \n",
    "    return np.array(pArr);\n",
    "\n",
    "print(\"2.a_g1\")\n",
    "p = fixedPointIter(g1, 1, 4)\n",
    "print(\"[p0,p1,p2,p3]: {}\".format(p));\n",
    "\n",
    "print(\"2.a_g2\")\n",
    "p = fixedPointIter(g2, 1, 4)\n",
    "print(\"[p0,p1,p2,p3]: {}\".format(p));\n",
    "\n",
    "print(\"2.a_g3\")\n",
    "p = fixedPointIter(g3, 1, 4)\n",
    "print(\"[p0,p1,p2,p3]: {}\".format(p));\n",
    "\n",
    "print(\"2.a_g4\")\n",
    "p = fixedPointIter(g4, 1, 4)\n",
    "print(\"[p0,p1,p2,p3]: {}\".format(p));"
   ]
  },
  {
   "cell_type": "code",
   "execution_count": 39,
   "id": "624079b5",
   "metadata": {},
   "outputs": [
    {
     "name": "stdout",
     "output_type": "stream",
     "text": [
      "2.a_g1\n",
      "2.a_g2\n",
      "2.a_g3\n",
      "2.a_g4\n"
     ]
    },
    {
     "data": {
      "image/png": "[encoded data removed]",
      "text/plain": [
       "<Figure size 432x288 with 1 Axes>"
      ]
     },
     "metadata": {
      "needs_background": "light"
     },
     "output_type": "display_data"
    },
    {
     "ename": "NameError",
     "evalue": "name 'e' is not defined",
     "output_type": "error",
     "traceback": [
      "\u001b[1;31m---------------------------------------------------------------------------\u001b[0m",
      "\u001b[1;31mNameError\u001b[0m                                 Traceback (most recent call last)",
      "Input \u001b[1;32mIn [39]\u001b[0m, in \u001b[0;36m<cell line: 49>\u001b[1;34m()\u001b[0m\n\u001b[0;32m     46\u001b[0m plt\u001b[38;5;241m.\u001b[39mlegend();\n\u001b[0;32m     47\u001b[0m plt\u001b[38;5;241m.\u001b[39mshow();\n\u001b[1;32m---> 49\u001b[0m \u001b[38;5;28mprint\u001b[39m(\u001b[43me\u001b[49m\u001b[38;5;241m-\u001b[39m\u001b[38;5;241m4\u001b[39m)\n",
      "\u001b[1;31mNameError\u001b[0m: name 'e' is not defined"
     ]
    }
   ],
   "source": [
    "import numpy as np;\n",
    "import matplotlib.pyplot as plt\n",
    "\n",
    "def f(x):\n",
    "    return x**4 + 2 * x**2 - x - 3;\n",
    "def g1(x):\n",
    "    return (3 + x - 2 * x**2)**(1/4);\n",
    "def g2(x):\n",
    "    return ((x + 3 - x**4) / 2)**(1 / 2);\n",
    "def g3(x):\n",
    "    return ((x + 3) / (x**2 + 2))**(1 / 2);\n",
    "def g4(x):\n",
    "    return (3 * x**4 + 2 * x**2 + 3) / (4 * x**3 + 4 * x -1);\n",
    "\n",
    "\n",
    "def fixedPointIter(f, p0, maxit):\n",
    "    iter = 1;\n",
    "    err = list();\n",
    "    \n",
    "    while(iter <= maxit):\n",
    "        p = f(p0);\n",
    "        err.append(abs(p0-p));\n",
    "        p0 = p;\n",
    "        iter += 1;\n",
    "    \n",
    "    return err;\n",
    "\n",
    "x = range(100);\n",
    "\n",
    "print(\"2.a_g1\")\n",
    "p = fixedPointIter(g1, 1, 100)\n",
    "plt.plot(x ,p, label=\"g1\")\n",
    "\n",
    "print(\"2.a_g2\")\n",
    "p = fixedPointIter(g2, 1, 100)\n",
    "plt.plot(x ,p, label=\"g2\")\n",
    "\n",
    "print(\"2.a_g3\")\n",
    "p = fixedPointIter(g3, 1, 100)\n",
    "plt.plot(x ,p, label=\"g3\")\n",
    "\n",
    "print(\"2.a_g4\")\n",
    "p = fixedPointIter(g4, 1, 100)\n",
    "plt.plot(x ,p, label=\"g4\")\n",
    "\n",
    "plt.legend();\n",
    "plt.show();"
   ]
  },
  {
   "cell_type": "code",
   "execution_count": 63,
   "id": "8c6e982c",
   "metadata": {},
   "outputs": [
    {
     "name": "stdout",
     "output_type": "stream",
     "text": [
      "iter 1: 0.7071067811865476\n",
      "iter 2: 0.6540408600420695\n",
      "iter 3: 0.6437186417228691\n",
      "iter 4: 0.6416858070429983\n",
      "iter 5: 0.641284509066585\n",
      "iter 6: 0.6412052524498624\n",
      "\n",
      "p: 0.6412052524498624, g(x): 0.6411770745288387\n"
     ]
    }
   ],
   "source": [
    "def g(x):\n",
    "    return 2**(-x);\n",
    "\n",
    "def fixedPointIter(f, p0, tol):\n",
    "    iter = 1;\n",
    "    \n",
    "    while(1):\n",
    "        p = f(p0);\n",
    "        print(\"iter {}: {}\".format(iter, p))\n",
    "        if abs(p-p0) < tol:\n",
    "            break;\n",
    "        p0 = f(p);\n",
    "        iter += 1;\n",
    "    \n",
    "    return p\n",
    "\n",
    "p = fixedPointIter(g, 0.5, 1e-4)\n",
    "print(\"\\np: {}, g(x): {}\".format(p, g(p)));"
   ]
  },
  {
   "cell_type": "code",
   "execution_count": 55,
   "id": "eea7fffc",
   "metadata": {},
   "outputs": [
    {
     "data": {
      "text/plain": [
       "0.6411770745288387"
      ]
     },
     "execution_count": 55,
     "metadata": {},
     "output_type": "execute_result"
    }
   ],
   "source": [
    "2**(-0.6412052524498624)"
   ]
  },
  {
   "cell_type": "code",
   "execution_count": 13,
   "id": "a117b001",
   "metadata": {
    "scrolled": true
   },
   "outputs": [
    {
     "name": "stdout",
     "output_type": "stream",
     "text": [
      "a.\n",
      "iter: 1, 2.5393888576415824\n",
      "iter: 2, 2.5530270953572507\n",
      "iter: 3, 2.554102691564727\n",
      "iter: 4, 2.554188505402924\n",
      "iter: 5, 2.5541953580778505\n",
      "p: 2.5541953580778505, g(x): 2.554195784759567\n",
      "\n",
      "b.\n",
      "iter: 1, 2.0454545454545454\n",
      "iter: 2, 2.09317967612949\n",
      "iter: 3, 2.094514110811502\n",
      "iter: 4, 2.0945504642317534\n",
      "p: 2.0945504642317534, g(x): 2.094551649388092\n",
      "\n",
      "c.\n",
      "iter: 1, 0.741332419970989\n",
      "iter: 2, 0.8771277404802832\n",
      "iter: 3, 0.9032811431491092\n",
      "iter: 4, 0.9086184107833576\n",
      "iter: 5, 0.9097201217656593\n",
      "iter: 6, 0.9099480682342758\n",
      "iter: 7, 0.9099952536820517\n",
      "iter: 8, 0.9100050221567444\n",
      "p: 0.9100050221567444, g(x): 0.9100064120787488\n",
      "\n",
      "d.\n",
      "iter: 1, 0.8775825618903728\n",
      "iter: 2, 0.8026851006823349\n",
      "iter: 3, 0.7681958312820161\n",
      "iter: 4, 0.752355759421527\n",
      "iter: 5, 0.7451203413514401\n",
      "iter: 6, 0.7418265226432459\n",
      "iter: 7, 0.7403296518782632\n",
      "iter: 8, 0.7396499627696612\n",
      "iter: 9, 0.7393414522812101\n",
      "iter: 10, 0.739201444135799\n",
      "iter: 11, 0.7391379107622928\n",
      "iter: 12, 0.7391090814205267\n",
      "iter: 13, 0.7390959998357547\n",
      "iter: 14, 0.739090063988251\n",
      "iter: 15, 0.7390873705710358\n",
      "p: 0.7390873705710358, g(x): 0.7390836261034798\n"
     ]
    }
   ],
   "source": [
    "import numpy as np\n",
    "\n",
    "def a(x):\n",
    "    return (np.sin(x) + 2 + x**2 - x)/x;\n",
    "\n",
    "def b(x):\n",
    "    return (x**3 + 10*x + 10)/(3 * x**2 + 6);\n",
    "\n",
    "def c(x):\n",
    "    return (np.exp(x)/3)**(1/2);\n",
    "\n",
    "def d(x):\n",
    "    return np.cos(x);\n",
    "\n",
    "def fixedPointIter(f, p0, tol):\n",
    "    iter = 1;\n",
    "    \n",
    "    while(1):\n",
    "        p = f(p0);\n",
    "        print(\"iter: {}, {}\".format(iter, p))\n",
    "        if abs(p-p0) < tol:\n",
    "            break;\n",
    "        p0 = f(p);\n",
    "        iter += 1;\n",
    "    return p\n",
    "\n",
    "print(\"a.\")\n",
    "p = fixedPointIter(a, 2.5, 1e-5)\n",
    "print(\"p: {}, g(x): {}\".format(p, a(p)));\n",
    "print(\"\\nb.\")\n",
    "p = fixedPointIter(b, 2.5, 1e-5)\n",
    "print(\"p: {}, g(x): {}\".format(p, b(p)));\n",
    "print(\"\\nc.\")\n",
    "p = fixedPointIter(c, 0.5, 1e-5)\n",
    "print(\"p: {}, g(x): {}\".format(p, c(p)));\n",
    "print(\"\\nd.\")\n",
    "p = fixedPointIter(d, 0.5, 1e-5)\n",
    "print(\"p: {}, g(x): {}\".format(p, d(p)));"
   ]
  },
  {
   "cell_type": "code",
   "execution_count": 8,
   "id": "2b701013",
   "metadata": {},
   "outputs": [
    {
     "data": {
      "text/plain": [
       "-1.1354642108329926e-05"
      ]
     },
     "execution_count": 8,
     "metadata": {},
     "output_type": "execute_result"
    }
   ],
   "source": [
    "2.0945504642317534**3-2*2.0945504642317534-5"
   ]
  }
 ],
 "metadata": {
  "kernelspec": {
   "display_name": "Python 3 (ipykernel)",
   "language": "python",
   "name": "python3"
  },
  "language_info": {
   "codemirror_mode": {
    "name": "ipython",
    "version": 3
   },
   "file_extension": ".py",
   "mimetype": "text/x-python",
   "name": "python",
   "nbconvert_exporter": "python",
   "pygments_lexer": "ipython3",
   "version": "3.10.7"
  }
 },
 "nbformat": 4,
 "nbformat_minor": 5
}
