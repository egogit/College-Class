{
 "cells": [
  {
   "cell_type": "code",
   "execution_count": 27,
   "id": "4460e210",
   "metadata": {},
   "outputs": [
    {
     "name": "stdout",
     "output_type": "stream",
     "text": [
      "aw:  [1.19, 1.3509459856876775, 1.4756053473119295, 1.5615134372246147, 1.6105434908459502, 1.6275694028222136, 1.6188995440859206, 1.590991417167691, 1.5496455973555978, 1.4996413660276684]\n",
      "bw:  [-1.34122830306494, -1.2576062760823539, -1.1873504264309136, -1.1273872444067592, -1.0755321281341896, -1.0301867692751543, -0.9901530978557249, -0.9545142999604956, -0.9225561588982513, -0.8937135534402831]\n",
      "cw:  [-1.64, -1.4796444444444443, -1.385500137425044, -1.322909063982102, -1.278081603680088, -1.2443175603914771, -1.2179366461565617, -1.1967388696233179, -1.1793242947384082, -1.1647579671098633]\n",
      "dw:  [1.015, 1.0588883004926108, 1.1268547603576557, 1.2116544573361254, 1.3056872120798162, 1.4023680622587342, 1.4966148236647991, 1.5848210896536328, 1.6646465541795497, 1.734781818283747]\n"
     ]
    }
   ],
   "source": [
    "import numpy as np;\n",
    "\n",
    "def af(t,y):\n",
    "    return (2-2*t*y)/(t**2+1);\n",
    "def adf(t,y):\n",
    "    return ((2*t**2-2)*y-4*t)/(t**2+1)**2;\n",
    "\n",
    "def bf(t,y):\n",
    "    return y**2/(1+t);\n",
    "def bdf(t,y):\n",
    "    return -y**2/(1+t)**2;\n",
    "\n",
    "def cf(t,y):\n",
    "    return (y**2+y)/t;\n",
    "def cdf(t,y):\n",
    "    return -(y**2+y)/t**2;\n",
    "\n",
    "def df(t,y):\n",
    "    return -t*y+4*t/y;\n",
    "def ddf(t,y):\n",
    "    return -y + 4/y\n",
    "\n",
    "def taylor(f,df,t0, y0, t1, h):\n",
    "    w = list();\n",
    "    ti, wi = t0, y0;\n",
    "    while(ti < t1):\n",
    "        wi = wi + h*(f(ti,wi)+h/2*df(ti,wi));\n",
    "        w.append(wi)\n",
    "        ti += h;\n",
    "        ti = round(ti,1) # In python, 0.1+0.2 != 0.3 truncation error occurs. So it needs to correct with round function\n",
    "    return w;\n",
    "\n",
    "print(\"aw: \",taylor(af, adf, 0, 1, 1, 0.1))\n",
    "print('bw: ',taylor(bf, bdf, 1, -np.log(2)**(-1), 2, 0.1))\n",
    "print('cw: ',taylor(cf, cdf, 1, -2, 3, 0.2))\n",
    "print('dw: ',taylor(df, ddf, 0, 1, 1, 0.1))"
   ]
  },
  {
   "cell_type": "code",
   "execution_count": 44,
   "id": "40c6b787",
   "metadata": {},
   "outputs": [
    {
     "name": "stdout",
     "output_type": "stream",
     "text": [
      "Taylor approx:  [0.31260241027279023, 0.7815808407523854, 1.4482597512742736, 2.3613169097990268, 3.577933314371556, 5.165113542701884, 7.201200145231169, 9.777608956434817, 13.000815867925864, 16.994629743786643]\n",
      "Actual:  [0.0, 0.3459198765397399, 0.866642535759603, 1.607215078180737, 2.6203595512358335, 3.9676662942277936, 5.72096152559634, 7.963873477844967, 10.793624660490641, 14.323081535891006, 18.683097081886423]\n"
     ]
    }
   ],
   "source": [
    "def f(t,y):\n",
    "    return 2/t*y + t**2*np.exp(t);\n",
    "def df(t,y):\n",
    "    return np.exp(t)*(t**2+2*t)-2*y/t**2;\n",
    "\n",
    "def y(t):\n",
    "    return (np.exp(t)-np.exp(1))*(t**2);\n",
    "\n",
    "def taylor(f,df,t, y0, h):\n",
    "    w = list();\n",
    "    wi = y0;\n",
    "    for ti in t:\n",
    "        wi = wi + h*(f(ti,wi)+h/2*df(ti,wi));\n",
    "        w.append(wi)\n",
    "    return w;\n",
    "\n",
    "h = 0.1;\n",
    "t = [1+round(h*i,1) for i in range(11)];\n",
    "w = taylor(f, df, t[:-1], 0, 0.1);\n",
    "actual = [y(i) for i in t];\n",
    "\n",
    "print(\"Taylor approx: \", w)\n",
    "print(\"Actual: \", actual)"
   ]
  },
  {
   "cell_type": "code",
   "execution_count": 45,
   "id": "4afb2abe",
   "metadata": {},
   "outputs": [
    {
     "name": "stdout",
     "output_type": "stream",
     "text": [
      "y(1.04)≃ 0.1250409641091161   y(1.04)= 0.11998749706134393\n",
      "y(1.55)≃ 4.371523428536721   y(1.55)= 4.788635020801403\n",
      "y(1.97)≃ 15.796485581028406   y(1.97)= 17.279298435557664\n"
     ]
    }
   ],
   "source": [
    "def lagrange(points, x):\n",
    "    x0, y0 = points[0][0], points[1][0];\n",
    "    x1, y1 = points[0][1], points[1][1];\n",
    "    return (x-x1)/(x0-x1)*y0 + (x-x0)/(x1-x0)*y1;\n",
    "\n",
    "\n",
    "a1 = np.array([[1.0,1.1], [ 0,w[0]]]);\n",
    "t1 = 1.04;\n",
    "approx1 = lagrange(a1,t1);\n",
    "\n",
    "a2 = np.array([[1.5,1.6], [ w[4],w[5]]]);\n",
    "t2 = 1.55;\n",
    "approx2 = lagrange(a2,t2);\n",
    "\n",
    "a3 = np.array([[1.9,2.0], [ w[8],w[9]]]);\n",
    "t3 = 1.97;\n",
    "approx3 = lagrange(a3,t3);\n",
    "\n",
    "print(\"y(1.04)≃\", approx1,\"  y(1.04)=\",y(1.04));\n",
    "print(\"y(1.55)≃\", approx2,\"  y(1.55)=\",y(1.55));\n",
    "print(\"y(1.97)≃\", approx3,\"  y(1.97)=\",y(1.97));"
   ]
  },
  {
   "cell_type": "code",
   "execution_count": 46,
   "id": "d10af09c",
   "metadata": {},
   "outputs": [
    {
     "name": "stdout",
     "output_type": "stream",
     "text": [
      "Taylor approx:  [0.31592097933836727, 0.7896059569392214, 1.4626144036572497, 2.3838867451538075, 3.6108981227736847, 5.210983089497208, 7.262854911273751, 9.858346416783625, 13.104403019321616, 17.125362682930987]\n",
      "Actual:  [0.0, 0.3459198765397399, 0.866642535759603, 1.607215078180737, 2.6203595512358335, 3.9676662942277936, 5.72096152559634, 7.963873477844967, 10.793624660490641, 14.323081535891006, 18.683097081886423]\n"
     ]
    }
   ],
   "source": [
    "def f(t,y):\n",
    "    return 2/t*y + t**2*np.exp(t);\n",
    "def df(t,y):\n",
    "    return np.exp(t)*(t**2+2*t)-2*y/t**2;\n",
    "def d2f(t,y):\n",
    "    return 4*y/t**3+(t**2+4*t+2)*np.exp(t);\n",
    "def d3f(t,y):\n",
    "    return -12*y/t**4+(t**2+6*t+6)*np.exp(t);\n",
    "\n",
    "\n",
    "def y(t):\n",
    "    return (np.exp(t)-np.exp(1))*(t**2);\n",
    "\n",
    "def taylor(f,df,t, y0, h):\n",
    "    w = list();\n",
    "    wi = y0;\n",
    "    for ti in t:\n",
    "        wi = wi + h*(f(ti,wi)+h/2*df(ti,wi)+h**2/6*d2f(ti,wi)+h**3/24*d3f(ti,wi));\n",
    "        w.append(wi)\n",
    "    return w;\n",
    "\n",
    "h = 0.1;\n",
    "t = [1+round(h*i,1) for i in range(11)];\n",
    "w = taylor(f, df, t[:-1], 0, 0.1);\n",
    "actual = [y(i) for i in t];\n",
    "\n",
    "print(\"Taylor approx: \", w)\n",
    "print(\"Actual: \", actual)"
   ]
  },
  {
   "cell_type": "code",
   "execution_count": 53,
   "id": "d87a979e",
   "metadata": {},
   "outputs": [
    {
     "name": "stdout",
     "output_type": "stream",
     "text": [
      "y(1.04)≃ 0.5033644371692105   y(1.04)= 0.11998749706134393\n",
      "y(1.55)≃ 36.63911360005559   y(1.55)= 4.788635020801403\n",
      "y(1.97)≃ 252.71555122457093   y(1.97)= 17.279298435557664\n"
     ]
    }
   ],
   "source": [
    "def hermite(points, x):\n",
    "    x0, y0 = points[0][0], points[1][0];\n",
    "    x1, y1 = points[0][1], points[1][1];\n",
    "    dy0 = 2*x0*(np.exp(x0)-np.exp(1))+x0**2*np.exp(x0);\n",
    "    dy1 = 2*x1*(np.exp(x1)-np.exp(1))+x1**2*np.exp(x1);\n",
    "    return (2*(y0-y1)+(dy0+dy1))*x**3+(3*(y1-y0)-(dy1+2*dy0))*x**2+dy0*x+y0;\n",
    "\n",
    "\n",
    "a1 = np.array([[1.0,1.1], [ 0,w[0]]]);\n",
    "t1 = 1.04;\n",
    "approx1 = hermite(a1,t1);\n",
    "\n",
    "a2 = np.array([[1.5,1.6], [ w[4],w[5]]]);\n",
    "t2 = 1.55;\n",
    "approx2 = hermite(a2,t2);\n",
    "\n",
    "a3 = np.array([[1.9,2.0], [ w[8],w[9]]]);\n",
    "t3 = 1.97;\n",
    "approx3 = hermite(a3,t3);\n",
    "\n",
    "print(\"y(1.04)≃\", approx1,\"  y(1.04)=\",y(1.04));\n",
    "print(\"y(1.55)≃\", approx2,\"  y(1.55)=\",y(1.55));\n",
    "print(\"y(1.97)≃\", approx3,\"  y(1.97)=\",y(1.97));"
   ]
  },
  {
   "cell_type": "code",
   "execution_count": 54,
   "id": "be1bac0a",
   "metadata": {},
   "outputs": [
    {
     "name": "stdout",
     "output_type": "stream",
     "text": [
      "Requirement already satisfied: scipy in c:\\users\\hyun min_ahn\\appdata\\local\\programs\\python\\python310\\lib\\site-packages (1.8.0)\n",
      "Requirement already satisfied: numpy<1.25.0,>=1.17.3 in c:\\users\\hyun min_ahn\\appdata\\local\\programs\\python\\python310\\lib\\site-packages (from scipy) (1.22.3)\n"
     ]
    }
   ],
   "source": [
    "!pip install scipy"
   ]
  },
  {
   "cell_type": "code",
   "execution_count": 65,
   "id": "73dc8efd",
   "metadata": {},
   "outputs": [
    {
     "name": "stdout",
     "output_type": "stream",
     "text": [
      "a. Taylor approx:  [1.2181261076717513, 1.4975545021156929]   Actual:  [1.2140230606297089, 1.4898801256447498]\n",
      "b. Taylor approx:  [2.3541666666666665, 2.7417450827887775]   Actual:  [2.3541019662496847, 2.7416573867739413]\n",
      "c. Taylor approx:  [2.245499453921602, 2.567155965856563, 2.9691945180603985, 3.45656842250089]   Actual:  [2.244121110336502, 2.5644519492316347, 2.965193834491754, 3.451286652264298]\n",
      "d. Taylor approx:  [1.4160750785402427, 1.0310110697781514, 0.7522666785837252, 0.5432450024334279]   Actual:  [1.4031989692799332, 1.0164101466785118, 0.7380097715499842, 0.5296870980395587]\n"
     ]
    }
   ],
   "source": [
    "def af(t,y):\n",
    "    return np.exp(t-y);\n",
    "def bf(t,y):\n",
    "    return (1+t)/(1+y);\n",
    "def cf(t,y):\n",
    "    return -y+t*y**(1/2);\n",
    "def df(t,y):\n",
    "    return t**(-2)*(np.sin(2*t)-2*t*y);\n",
    "\n",
    "def a(t):\n",
    "    return np.log(np.exp(t)+np.exp(1)-1);\n",
    "def b(t):\n",
    "    return np.sqrt(t**2+2*t+6)-1;\n",
    "def c(t):\n",
    "    return (t-2+np.sqrt(2)*np.exp(1-t/2))**2\n",
    "def d(t):\n",
    "    return 1/2*t**(-2)*(4+np.cos(2)-np.cos(2*t));\n",
    "\n",
    "def modiEuler(f, t0, y0, t1, h):\n",
    "    w = list();\n",
    "    wi, ti = y0, t0;\n",
    "    while(ti < t1):\n",
    "        wi = wi + h/2*(f(ti,wi)+f(ti+h, wi+h*f(ti,wi)));\n",
    "        w.append(wi)\n",
    "        ti += h\n",
    "    return w;\n",
    "\n",
    "aw = modiEuler(af, 0, 1, 1, 0.5);\n",
    "bw = modiEuler(bf, 1, 2, 2, 0.5);\n",
    "cw = modiEuler(cf, 2, 2, 3, 0.25);\n",
    "dw = modiEuler(df, 1, 2, 2, 0.25);\n",
    "\n",
    "aa = [a(0.5), a(1.0)]\n",
    "ba = [b(1.5), b(2.0)]\n",
    "ca = [c(2.25), c(2.5),c(2.75),c(3.0)];\n",
    "da = [d(1.25), d(1.5),d(1.75),d(2.0)]\n",
    "\n",
    "print(\"a. Taylor approx: \", aw,\"  Actual: \", aa);\n",
    "print(\"b. Taylor approx: \", bw,\"  Actual: \", ba);\n",
    "print(\"c. Taylor approx: \", cw,\"  Actual: \", ca);\n",
    "print(\"d. Taylor approx: \", dw,\"  Actual: \", da);\n"
   ]
  },
  {
   "cell_type": "code",
   "execution_count": 69,
   "id": "d926f5a6",
   "metadata": {},
   "outputs": [
    {
     "name": "stdout",
     "output_type": "stream",
     "text": [
      "midpoint approx(0.1):  [1.005, 1.0190249999999998, 1.0412176249999998, 1.070801950625, 1.107075765315625, 1.1494035676106407, 1.1972102286876298, 1.249975256962305, 1.307227607550886, 1.368540984833552, 1.4335295912743644]\n",
      "modified Euler approx(0.1):  [1.005, 1.0190249999999998, 1.0412176249999998, 1.070801950625, 1.107075765315625, 1.1494035676106404, 1.1972102286876296, 1.2499752569623048, 1.3072276075508857, 1.3685409848335515, 1.433529591274364]\n",
      "\n",
      "midpoint approx(0.05):  [1.00125, 1.0048765625, 1.010763830078125, 1.0188015933618164, 1.028885015685428, 1.0409143711707634, 1.0547947955761887, 1.0704360492918494, 1.0877522918888718, 1.1066618676592892, 1.1270871016108988, 1.1489541054073675, 1.1721925927687584, 1.1967357038712814, 1.2225198383075564, 1.249484496190063, 1.2775721270007976, 1.3067279858095087, 1.336899996501295, 1.368038621671857]\n",
      "modified Euler approx(0.05):  [1.00125, 1.0048765625, 1.010763830078125, 1.0188015933618164, 1.028885015685428, 1.0409143711707634, 1.0547947955761887, 1.0704360492918494, 1.0877522918888718, 1.1066618676592892, 1.1270871016108988, 1.1489541054073675, 1.1721925927687584, 1.1967357038712814, 1.2225198383075564, 1.249484496190063, 1.2775721270007976, 1.3067279858095087, 1.336899996501295, 1.368038621671857]\n"
     ]
    }
   ],
   "source": [
    "def f(t,y):\n",
    "    return -y+t+1;\n",
    "\n",
    "def midpoint(f, t0, y0, t1, h):\n",
    "    w = list();\n",
    "    ti,wi = t0, y0;\n",
    "    while(ti < t1):\n",
    "        wi = wi + h*f(ti+h/2, wi+h/2*f(ti,wi))\n",
    "        w.append(wi)\n",
    "        ti += h;\n",
    "    return w;\n",
    "\n",
    "def modiEuler(f, t0, y0, t1, h):\n",
    "    w = list();\n",
    "    wi, ti = y0, t0;\n",
    "    while(ti < t1):\n",
    "        wi = wi + h/2*(f(ti,wi)+f(ti+h, wi+h*f(ti,wi)));\n",
    "        w.append(wi)\n",
    "        ti += h\n",
    "    return w;\n",
    "\n",
    "midapprox = midpoint(f, 0, 1, 1, 0.1);\n",
    "modiapprox = modiEuler(f, 0, 1, 1, 0.1);\n",
    "\n",
    "print(\"midpoint approx(0.1): \", midpoint(f, 0, 1, 1, 0.1));\n",
    "print(\"modified Euler approx(0.1): \", modiEuler(f, 0, 1, 1, 0.1));\n",
    "print()\n",
    "print(\"midpoint approx(0.05): \", midpoint(f, 0, 1, 1, 0.05));\n",
    "print(\"modified Euler approx(0.05): \", modiEuler(f, 0, 1, 1, 0.05));"
   ]
  },
  {
   "cell_type": "code",
   "execution_count": null,
   "id": "38433142",
   "metadata": {},
   "outputs": [],
   "source": []
  }
 ],
 "metadata": {
  "kernelspec": {
   "display_name": "Python 3 (ipykernel)",
   "language": "python",
   "name": "python3"
  },
  "language_info": {
   "codemirror_mode": {
    "name": "ipython",
    "version": 3
   },
   "file_extension": ".py",
   "mimetype": "text/x-python",
   "name": "python",
   "nbconvert_exporter": "python",
   "pygments_lexer": "ipython3",
   "version": "3.10.7"
  }
 },
 "nbformat": 4,
 "nbformat_minor": 5
}
