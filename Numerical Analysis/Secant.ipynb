{
 "cells": [
  {
   "cell_type": "code",
   "execution_count": 102,
   "id": "90102e57",
   "metadata": {},
   "outputs": [
    {
     "name": "stdout",
     "output_type": "stream",
     "text": [
      "iter: 2 0.17495673135852963\n",
      "iter: 3 0.1248588505656863\n",
      "iter: 4 0.07177748887248783\n",
      "iter: 5 0.04530192538161147\n",
      "iter: 6 0.027712699842290373\n",
      "iter: 7 0.017179935807736177\n",
      "iter: 8 0.010601988710663961\n",
      "iter: 9 0.006555318523466942\n",
      "iter: 10 0.0040505302897720676\n",
      "iter: 11 0.002503528634958287\n",
      "iter: 12 0.0015472167900738827\n",
      "iter: 13 0.0009562416616715627\n",
      "iter: 14 0.0005909871178953738\n",
      "iter: 15 0.0003652506327082554\n",
      "iter: 16 0.00022573715356301446\n",
      "iter: 17 0.00013951326177424873\n",
      "p, f(p): 0.00013951326177424873, 4.865987390800797e-09\n",
      "iter: 2 0.17495673135852957\n",
      "iter: 3 0.12485885056568664\n",
      "iter: 4 0.07177748887248778\n",
      "iter: 5 0.0453019253816112\n",
      "iter: 6 0.02771269984228679\n",
      "iter: 7 0.01717993580773243\n",
      "iter: 8 0.010601988710668156\n",
      "iter: 9 0.006555318523445278\n",
      "iter: 10 0.004050530289792328\n",
      "iter: 11 0.0025035286349785785\n",
      "iter: 12 0.0015472167901490158\n",
      "iter: 13 0.0009562416615693295\n",
      "iter: 14 0.0005909871176496417\n",
      "iter: 15 0.00036525063269473586\n",
      "iter: 16 0.0002257371535494986\n",
      "iter: 17 0.00013951326176073512\n",
      "p, f(p): 0.00013951326176073512, 4.865987446311948e-09\n",
      "Is f(p1) is more accurate than f(p2) and diff : True 5.551115123125783e-17\n"
     ]
    }
   ],
   "source": [
    "import numpy as np;\n",
    "\n",
    "def f(x):\n",
    "    return 1/2 + 1/4 * x**2 - x*np.sin(x) -1/2*np.cos(2*x);\n",
    "\n",
    "def secantF(p0,p1,q0,q1):\n",
    "    p = p1 - q1*(p1 - p0)/(q1-q0)\n",
    "    return p;\n",
    "\n",
    "def modified_secantF(p0,p1,q0,q1):\n",
    "    p = (q1*p0 - q0*p1)/(q1-q0);\n",
    "    return p;\n",
    "    \n",
    "def secant(f, nextP, p0, p1, tol, maxit=10000):\n",
    "    i = 2;\n",
    "    q0, q1 = f(p0), f(p1);\n",
    "    \n",
    "    while(i <= maxit):\n",
    "        p = nextP(p0,p1,q0,q1)\n",
    "        print(\"iter: {} {}\".format(i, p));\n",
    "        if abs(p-p1) < tol:\n",
    "            return p;\n",
    "        \n",
    "        i += 1;\n",
    "        p0,q0 = p1,q1;\n",
    "        p1,q1 = p,f(p);\n",
    "\n",
    "        \n",
    "p1 = secant(f, secantF, 0.5, np.pi/4, 1e-4);\n",
    "print(\"p, f(p): {}, {}\".format(p1, f(p1)));\n",
    "p2 = secant(f, modified_secantF, 0.5, np.pi/4, 1e-4);\n",
    "print(\"p, f(p): {}, {}\".format(p2, f(p2)));\n",
    "\n",
    "\n",
    "print(\"Is f(p1) is more accurate than f(p2) and diff : {} {}\".format(f(p1)<f(p2), f(p2)-f(p1)));"
   ]
  },
  {
   "cell_type": "code",
   "execution_count": 22,
   "id": "76343a0a",
   "metadata": {},
   "outputs": [
    {
     "name": "stdout",
     "output_type": "stream",
     "text": [
      "3.5.1\n"
     ]
    }
   ],
   "source": [
    "import matplotlib as mpl;\n",
    "print(mpl.__version__)"
   ]
  }
 ],
 "metadata": {
  "kernelspec": {
   "display_name": "Python 3 (ipykernel)",
   "language": "python",
   "name": "python3"
  },
  "language_info": {
   "codemirror_mode": {
    "name": "ipython",
    "version": 3
   },
   "file_extension": ".py",
   "mimetype": "text/x-python",
   "name": "python",
   "nbconvert_exporter": "python",
   "pygments_lexer": "ipython3",
   "version": "3.10.7"
  }
 },
 "nbformat": 4,
 "nbformat_minor": 5
}
