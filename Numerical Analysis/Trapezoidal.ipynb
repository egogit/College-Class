{
 "cells": [
  {
   "cell_type": "code",
   "execution_count": 4,
   "id": "c555e0a8",
   "metadata": {},
   "outputs": [
    {
     "name": "stdout",
     "output_type": "stream",
     "text": [
      "a. 0.46939564047259313\n",
      "b. 0.08664339756999316\n",
      "c. -0.037024252723997224\n",
      "d. 0.28633417247833504\n"
     ]
    }
   ],
   "source": [
    "import numpy as np;\n",
    "\n",
    "def trapezoidal(f, x0, x1):\n",
    "    h = x1- x0;\n",
    "    return h/2*(f(x0)+f(x1));\n",
    "\n",
    "def a(x):\n",
    "    return np.cos(x)**2;\n",
    "\n",
    "def b(x):\n",
    "    return x*np.log(x+1);\n",
    "\n",
    "def c(x):\n",
    "    return np.sin(x)**2 - 2*x*np.sin(x)+1;\n",
    "\n",
    "def d(x):\n",
    "    return 1/(x*np.log(x))\n",
    "\n",
    "print(\"a. \" + str(trapezoidal(a, -0.25, 0.25)))\n",
    "print(\"b. \" + str(trapezoidal(b, -0.5, 0)))\n",
    "print(\"c. \" + str(trapezoidal(c, 0.75, 1.3)))\n",
    "print(\"d. \" + str(trapezoidal(d, np.exp(1) ,np.exp(1)+1)))"
   ]
  },
  {
   "cell_type": "code",
   "execution_count": 5,
   "id": "04e06a2e",
   "metadata": {},
   "outputs": [
    {
     "name": "stdout",
     "output_type": "stream",
     "text": [
      "3\n"
     ]
    }
   ],
   "source": [
    "import numpy as np\n",
    "def precise(x1,x2,a1,a2):\n",
    "    degree = 1;\n",
    "    \n",
    "    while(1):\n",
    "        integral = (1/(degree + 1))*(x2)**(degree + 1)-(1/(degree + 1))*(x1)**(degree + 1);\n",
    "        rhs = a1**degree + a2**degree;\n",
    "        if integral != rhs:\n",
    "            print(degree-1);\n",
    "            break;\n",
    "        else:\n",
    "            degree += 1;\n",
    "            \n",
    "precise(-1,1,-np.sqrt(3)/3,np.sqrt(3)/3);"
   ]
  },
  {
   "cell_type": "code",
   "execution_count": 24,
   "id": "c2f8d6e3",
   "metadata": {},
   "outputs": [
    {
     "name": "stdout",
     "output_type": "stream",
     "text": [
      "0.10244,0.10246,0.10246,0.10246,0.10247,0.10247,0.10246,0.10246\n",
      "0.78540,0.78540,0.78540,0.78540,0.78540,0.78540,0.78540,0.78540\n",
      "1.49717,1.47754,1.47753,1.47752,1.46772,1.47098,1.47751,1.47752\n",
      "4.95000,2.74091,2.56339,2.38570,1.63636,1.76786,2.07489,2.11638\n",
      "3.29318,2.40790,2.35977,2.31475,1.96526,2.04863,2.23325,2.24900\n",
      "0.50000,0.69580,0.71260,0.73063,0.79370,0.78347,0.76111,0.75936\n"
     ]
    }
   ],
   "source": [
    "def trapezoidal(f, x0, x1):\n",
    "    h = x1 - x0;\n",
    "    return h/2*(f(x0)+f(x1));\n",
    "\n",
    "def simpson(f, x0, x1):\n",
    "    h = (x1 - x0) / 2;\n",
    "    return h/3*(f(x0)+4*f(x0+h)+f(x1));\n",
    "\n",
    "def simpsonThree(f, x0, x1):\n",
    "    h = (x1 - x0) / 3;\n",
    "    return 3*h/8*(f(x0)+3*f(x0+h)+3*f(x0+2*h)+f(x1));\n",
    "\n",
    "def n4(f, x0, x1):\n",
    "    h = (x1 - x0) / 4;\n",
    "    return 2*h/45*(7*f(x0)+32*f(x0+h)+12*f(x0+2*h)+32*f(x0+3*h)+7*f(x1));\n",
    "\n",
    "def midpt(f, x0, x1):\n",
    "    h = (x1-x0)/ (0 + 2);\n",
    "    x0 = x0 + h;\n",
    "    return 2*h*f(x0);\n",
    "\n",
    "def n1Open(f, x0, x1):\n",
    "    h = (x1-x0)/(1 + 2);\n",
    "    x0 = x0 + h;\n",
    "    return 3*h/2*(f(x0)+f(x0+h));\n",
    "\n",
    "def n2Open(f, x0, x1):\n",
    "    h = (x1-x0)/(2 + 2);\n",
    "    x0 = x0 + h;\n",
    "    return 4*h/3*(2*f(x0)-f(x0+h)+2*f(x0+2*h))\n",
    "\n",
    "def n3Open(f, x0, x1):\n",
    "    h = (x1-x0)/(3 + 2);\n",
    "    x0 = x0 + h;\n",
    "    return 5*h/24*(11*f(x0)+f(x0+h)+f(x0+2*h)+11*f(x0+3*h))\n",
    "\n",
    "def a(x):\n",
    "    return np.sqrt(1+x);\n",
    "def b(x):\n",
    "    return np.sin(x)**2;\n",
    "def c(x):\n",
    "    return np.exp(x);\n",
    "def d(x):\n",
    "    return 1/x;\n",
    "def e(x):\n",
    "    return 1/x;\n",
    "def f(x):\n",
    "    return x**(1/3);\n",
    "\n",
    "def result(f, x0, x1):\n",
    "    print(\"{:.5f},{:.5f},{:.5f},{:.5f},{:.5f},{:.5f},{:.5f},{:.5f}\".format(\n",
    "    trapezoidal(f,x0,x1),simpson(f,x0,x1),simpsonThree(f,x0,x1),n4(f,x0,x1), \n",
    "      midpt(f,x0,x1), n1Open(f,x0,x1), n2Open(f,x0,x1), n3Open(f,x0,x1)))\n",
    "\n",
    "result(a, 0, 0.1);\n",
    "result(b, 0, np.pi/2);\n",
    "result(c, 1.1, 1.5);\n",
    "result(d, 1, 10);\n",
    "print(\"{:.5f},{:.5f},{:.5f},{:.5f},{:.5f},{:.5f},{:.5f},{:.5f}\".format(\n",
    "    trapezoidal(e,1,5.5)+trapezoidal(e,5.5,10),simpson(e,1,5.5)+simpson(e,5.5,10),simpsonThree(e,1,5.5)+simpsonThree(e,5.5,10),n4(e,1,5.5)+n4(e,5.5,10), \n",
    "      midpt(e,1,5.5)+midpt(e,5.5,10), n1Open(e,1,5.5)+n1Open(e,5.5,10), n2Open(e,1,5.5)+n2Open(e,5.5,10), n3Open(e,1,5.5)+n3Open(e,5.5,10)))\n",
    "result(f, 0, 1);"
   ]
  },
  {
   "cell_type": "code",
   "execution_count": null,
   "id": "3dd7e65d",
   "metadata": {},
   "outputs": [],
   "source": []
  }
 ],
 "metadata": {
  "kernelspec": {
   "display_name": "Python 3 (ipykernel)",
   "language": "python",
   "name": "python3"
  },
  "language_info": {
   "codemirror_mode": {
    "name": "ipython",
    "version": 3
   },
   "file_extension": ".py",
   "mimetype": "text/x-python",
   "name": "python",
   "nbconvert_exporter": "python",
   "pygments_lexer": "ipython3",
   "version": "3.10.7"
  }
 },
 "nbformat": 4,
 "nbformat_minor": 5
}
