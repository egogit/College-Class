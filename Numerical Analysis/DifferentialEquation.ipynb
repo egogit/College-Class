{
 "cells": [
  {
   "cell_type": "code",
   "execution_count": 13,
   "id": "425161be",
   "metadata": {},
   "outputs": [
    {
     "name": "stdout",
     "output_type": "stream",
     "text": [
      "a [w1,w2]:  [0.0, 1.1204222675845161]\n",
      "b [w1,w2]:  [2.0, 2.625]\n",
      "c [w1,w2,w3,w4]:  [2.75, 3.55, 4.391666666666667, 5.269047619047619]\n",
      "d [w1,w2,w3,w4]:  [1.25, 1.6398053304784268, 2.0242546535964756, 2.2364572532353817]\n"
     ]
    }
   ],
   "source": [
    "import numpy as np;\n",
    "\n",
    "def af(t,y):\n",
    "    return t*np.exp(3*t)-2*y;\n",
    "def bf(t,y):\n",
    "    return 1+(t-y)**2;\n",
    "def cf(t,y):\n",
    "    return 1+y/t;\n",
    "def df(t,y):\n",
    "    return np.cos(2*t)+np.sin(3*t);\n",
    "\n",
    "def euler(f,t0,y0,t1,h):\n",
    "    w = [];\n",
    "    i = 0;\n",
    "    t, y = t0, y0;\n",
    "    while(t + h <= t1):\n",
    "        y = y + h * f(t,y);\n",
    "        w.append(y);\n",
    "        i += 1;\n",
    "        t = t0 + i*h;\n",
    "    return w;\n",
    "\n",
    "aw = euler(af,0,0,1,0.5)\n",
    "bw = euler(bf,2,1,3,0.5)\n",
    "cw = euler(cf,1,2,2,0.25)\n",
    "dw = euler(df,0,1,1,0.25)\n",
    "\n",
    "print(\"a [w1,w2]: \", aw);\n",
    "print(\"b [w1,w2]: \", bw);\n",
    "print(\"c [w1,w2,w3,w4]: \", cw);\n",
    "print(\"d [w1,w2,w3,w4]: \", dw);"
   ]
  },
  {
   "cell_type": "code",
   "execution_count": 17,
   "id": "20ec07b4",
   "metadata": {},
   "outputs": [
    {
     "name": "stdout",
     "output_type": "stream",
     "text": [
      "ay actual y:  [0.2836165218671416, 3.2190993190394916]\n",
      "by actual y:  [1.8333333333333335, 2.5]\n",
      "cy actual y:  [2.7789294391427624, 3.6081976621622465, 4.47932762888699, 5.386294361119891]\n",
      "dy actual y:  [1.3291498130108277, 1.7304897585147139, 2.041472034209607, 2.1179795456129895]\n",
      "a actual error:  [0.2836165218671416, 2.0986770514549757]\n",
      "b actual error:  [0.16666666666666652, 0.125]\n",
      "c actual error:  [0.02892943914276236, 0.058197662162246644, 0.08766096222032349, 0.11724674207227181]\n",
      "d actual error:  [0.07914981301082769, 0.09068442803628707, 0.017217380613131272, 0.11847770762239218]\n"
     ]
    }
   ],
   "source": [
    "def ay(t):\n",
    "    return 1/5*t*np.exp(3*t)-1/25*np.exp(3*t)+1/25*np.exp(-2*t)\n",
    "def by(t):\n",
    "    return t+1/(1-t);\n",
    "def cy(t):\n",
    "    return t*np.log(t)+2*t\n",
    "def dy(t):\n",
    "    return 1/2*np.sin(2*t)-1/3*np.cos(3*t)+4/3\n",
    "\n",
    "\n",
    "def getActualError(f, t0, t1, h, approx):\n",
    "    actual = list();\n",
    "    t = t0 + h;\n",
    "    while(t <= t1):\n",
    "        actual.append(f(t));\n",
    "        t += h;\n",
    "    print(f.__name__ +\" actual y: \", actual)\n",
    "    return [ abs(ap - ac) for ap, ac in zip(approx, actual) ];\n",
    "\n",
    "aAE= getActualError(ay, 0, 1, 0.5, aw)\n",
    "bAE= getActualError(by, 2, 3, 0.5, bw)\n",
    "cAE= getActualError(cy, 1, 2, 0.25, cw)\n",
    "dAE= getActualError(dy, 0, 1, 0.25, dw)\n",
    "\n",
    "print(\"a actual error: \", aAE)\n",
    "print(\"b actual error: \", bAE)\n",
    "print(\"c actual error: \", cAE)\n",
    "print(\"d actual error: \", dAE)"
   ]
  },
  {
   "cell_type": "code",
   "execution_count": 22,
   "id": "3cf957fb",
   "metadata": {},
   "outputs": [
    {
     "name": "stdout",
     "output_type": "stream",
     "text": [
      "a error bound:  [11.392208522683468, 42.35944193591021]\n",
      "b error bound:  [0.4295704571147613, 1.5972640247326626]\n",
      "c error bound:  [0.035503177085967674, 0.08109015883751602, 0.13962500207658435, 0.21478522855738064]\n"
     ]
    }
   ],
   "source": [
    "def getErrorBound(a,h,L,M,end):\n",
    "    errBound = list();\n",
    "    t = a + h;\n",
    "    while(t <= end):\n",
    "        bound = h*M/(2*L)*(np.exp(L*(t-a))-1);\n",
    "        errBound.append(bound);\n",
    "        t += h;\n",
    "    return errBound;\n",
    "\n",
    "aEB = getErrorBound(a= 0, h=0.5, L=2, M=53.04, end=1)\n",
    "bEB = getErrorBound(a= 2, h=0.5, L=2, M=2, end=3)\n",
    "cEB = getErrorBound(a= 1, h=0.25, L=1, M=1, end=2)\n",
    "\n",
    "print(\"a error bound: \", aEB);\n",
    "print(\"b error bound: \", bEB);\n",
    "print(\"c error bound: \", cEB);\n"
   ]
  },
  {
   "cell_type": "code",
   "execution_count": 27,
   "id": "330d9396",
   "metadata": {},
   "outputs": [
    {
     "name": "stdout",
     "output_type": "stream",
     "text": [
      "f:  [-1, -0.95, -0.9045354308390022, -0.8630070872152521, -0.8249169182093721, -0.7898475538258284, -0.7574466095870275, -0.7274145171820102, -0.6994949905085615, -0.673467484567523, -0.6491411776549285, -0.6263501296039033, -0.6049493564296613, -0.5848116252334674, -0.5658248197719362, -0.5478897615792692, -0.5309183973212146, -0.5148322825275662, -0.49956130667154186, -0.4850426159396785, -0.4712196988327847]\n"
     ]
    }
   ],
   "source": [
    "def f(t,y):\n",
    "    return 1/t**2-y/t-y**2;\n",
    "\n",
    "def euler(f,t0,y0,t1,h):\n",
    "    w = [y0];\n",
    "    i = 0;\n",
    "    t, y = t0, y0;\n",
    "    while(t + h <= t1):\n",
    "        y = y + h * f(t,y);\n",
    "        w.append(y);\n",
    "        i += 1;\n",
    "        t = t0 + i*h;\n",
    "    return w;\n",
    "\n",
    "w = euler(f,1,-1,2,0.05);\n",
    "\n",
    "print(\"f: \", w);"
   ]
  },
  {
   "cell_type": "code",
   "execution_count": 28,
   "id": "d2cf85bd",
   "metadata": {},
   "outputs": [
    {
     "name": "stdout",
     "output_type": "stream",
     "text": [
      "y(1.052)≃ -0.94818141723356\n",
      "y(1.555)≃ -0.6242100522864792\n",
      "y(1.978)≃ -0.477301782359818\n"
     ]
    }
   ],
   "source": [
    "def lagrange(points, x):\n",
    "    x0, y0 = points[0][0], points[1][0];\n",
    "    x1, y1 = points[0][1], points[1][1];\n",
    "    return (x-x1)/(x0-x1)*y0 + (x-x0)/(x1-x0)*y1;\n",
    "\n",
    "\n",
    "a1 = np.array([[1.05,1.1], [ w[1],w[2]]]);\n",
    "t1 = 1.052;\n",
    "approx1 = lagrange(a1,t1);\n",
    "\n",
    "a2 = np.array([[1.55,1.6], [ w[11],w[12]]]);\n",
    "t2 = 1.555;\n",
    "approx2 = lagrange(a2,t2);\n",
    "\n",
    "a3 = np.array([[1.95,2.0], [ w[19],w[20]]]);\n",
    "t3 = 1.978;\n",
    "approx3 = lagrange(a3,t3);\n",
    "\n",
    "print(\"y(1.052)≃\", approx1);\n",
    "print(\"y(1.555)≃\", approx2);\n",
    "print(\"y(1.978)≃\", approx3);"
   ]
  },
  {
   "cell_type": "code",
   "execution_count": 32,
   "id": "933d7a53",
   "metadata": {},
   "outputs": [
    {
     "name": "stdout",
     "output_type": "stream",
     "text": [
      "y(5) with h=0.2:  4.804722366482871\n",
      "y(5) with h=0.1:  5.0051537752073205\n",
      "y(5) with h=0.05:  5.005920529220334\n",
      "y(5) actual:  5.006737946999086\n"
     ]
    }
   ],
   "source": [
    "def f(t,y):\n",
    "    return -y + t + 1;\n",
    "\n",
    "def y(t):\n",
    "    return np.exp(-t)+t;\n",
    "\n",
    "def euler(f,t0,y0,t1,h):\n",
    "    w = [y0];\n",
    "    i = 0;\n",
    "    t, y = t0, y0;\n",
    "    while(t + h <= t1):\n",
    "        y = y + h * f(t,y);\n",
    "        w.append(y);\n",
    "        i += 1;\n",
    "        t = t0 + i*h;\n",
    "    return w;\n",
    "\n",
    "w1 = euler(f,0,1,5,0.2);\n",
    "w2 = euler(f,0,1,5,0.1);\n",
    "w3 = euler(f,0,1,5,0.05);\n",
    "\n",
    "print(\"y(5) with h=0.2: \", w1[-1]);\n",
    "print(\"y(5) with h=0.1: \", w2[-1]);\n",
    "print(\"y(5) with h=0.05: \", w3[-1]);\n",
    "print(\"y(5) actual: \", y(5))"
   ]
  },
  {
   "cell_type": "code",
   "execution_count": 33,
   "id": "02f2df81",
   "metadata": {},
   "outputs": [
    {
     "name": "stdout",
     "output_type": "stream",
     "text": [
      "[1, 0.0, 0.0, 0.0, 0.0, 0.0, 0.0, 0.0, 0.0, 0.0, 0.0, 0.0, 0.0, 0.0, 0.0, 0.0, 0.0, 0.0, 0.0, 0.0, 0.0]\n"
     ]
    }
   ],
   "source": [
    "def f(t,y):\n",
    "    return -10*y;\n",
    "\n",
    "def y(t):\n",
    "    return np.exp(-10*t);\n",
    "\n",
    "def euler(f,t0,y0,t1,h):\n",
    "    w = [y0];\n",
    "    i = 0;\n",
    "    t, y = t0, y0;\n",
    "    while(t + h <= t1):\n",
    "        y = y + h * f(t,y);\n",
    "        w.append(y);\n",
    "        i += 1;\n",
    "        t = t0 + i*h;\n",
    "    return w;\n",
    "\n",
    "w = euler(f,0,1,2,0.1);\n",
    "print(w)"
   ]
  },
  {
   "cell_type": "code",
   "execution_count": null,
   "id": "65de8209",
   "metadata": {},
   "outputs": [],
   "source": []
  }
 ],
 "metadata": {
  "kernelspec": {
   "display_name": "Python 3 (ipykernel)",
   "language": "python",
   "name": "python3"
  },
  "language_info": {
   "codemirror_mode": {
    "name": "ipython",
    "version": 3
   },
   "file_extension": ".py",
   "mimetype": "text/x-python",
   "name": "python",
   "nbconvert_exporter": "python",
   "pygments_lexer": "ipython3",
   "version": "3.10.7"
  }
 },
 "nbformat": 4,
 "nbformat_minor": 5
}
