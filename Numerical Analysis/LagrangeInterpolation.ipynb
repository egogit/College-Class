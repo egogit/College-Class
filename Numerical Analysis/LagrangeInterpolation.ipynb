{
 "cells": [
  {
   "cell_type": "code",
   "execution_count": 1,
   "id": "1c9463c3",
   "metadata": {
    "scrolled": false
   },
   "outputs": [
    {
     "name": "stdout",
     "output_type": "stream",
     "text": [
      "\n",
      "a.\n",
      "1 : x = [8.1 8.3]\n",
      "f(8.4)= 17.875329999999998\n",
      "2 : x = [8.1 8.3 8.6]\n",
      "f(8.4)= 17.877129999999998\n",
      "3 : x = [8.1 8.3 8.6 8.7]\n",
      "f(8.4)= 17.8771425\n",
      "\n",
      "b.\n",
      "1 : x = [-0.75 -0.5 ]\n",
      "f(-0.3333333333333333)= 0.006625000000000006\n",
      "2 : x = [-0.75 -0.5  -0.25]\n",
      "f(-0.3333333333333333)= 0.1803055555555556\n",
      "3 : x = [-0.75 -0.5  -0.25  0.  ]\n",
      "f(-0.3333333333333333)= 0.1745185185185186\n",
      "\n",
      "c.\n",
      "1 : x = [0.1 0.2]\n",
      "f(0.25)= -0.7362298099999999\n",
      "2 : x = [0.1 0.2 0.3]\n",
      "f(0.25)= -0.2880771012499999\n",
      "3 : x = [0.1 0.2 0.3 0.4]\n",
      "f(0.25)= -0.21033722187499995\n",
      "\n",
      "d.\n",
      "1 : x = [0.6 0.7]\n",
      "f(0.9)= 0.39514601000000027\n",
      "2 : x = [0.6 0.7 0.8]\n",
      "f(0.9)= 0.4526994499999995\n",
      "3 : x = [0.6 0.7 0.8 1. ]\n",
      "f(0.9)= 0.4419850024999998\n"
     ]
    }
   ],
   "source": [
    "import numpy as np\n",
    "\n",
    "def lagrange(points, x):\n",
    "    length = len(points[0]);\n",
    "    xl, yl = points;\n",
    "    coef = list();\n",
    "    px = 0;\n",
    "    \n",
    "    for i in range(length):  # 들어갈 점 순회\n",
    "        L = 1;\n",
    "        for j in range(length):\n",
    "            if j != i:\n",
    "                L *= ((x - xl[j])/(xl[i]-xl[j]))\n",
    "        coef.append(L);\n",
    "        px += (L*yl[i]);\n",
    "          \n",
    "    return [coef, px];\n",
    "        \n",
    "\n",
    "def interplolate(points, x):\n",
    "    fcoef, fx = lagrange(points[0:2,0:2], x);\n",
    "    scoef, sx = lagrange(points[0:3,0:3], x);\n",
    "    tcoef, tx = lagrange(points[0:4,0:4], x);\n",
    "\n",
    "    print(\"1 : x = {}\".format(points[0][:2]));\n",
    "    print(\"f({})= {}\".format(x, fx, fcoef))\n",
    "    print(\"2 : x = {}\".format(points[0][:3]));\n",
    "    print(\"f({})= {}\".format(x, sx, scoef))\n",
    "    print(\"3 : x = {}\".format(points[0][:4]));\n",
    "    print(\"f({})= {}\".format(x, tx, tcoef))\n",
    "\n",
    "a = np.array([[8.1, 8.3, 8.6, 8.7], [ 16.94410, 17.56492, 18.50515, 18.82091]]);\n",
    "ax = 8.4;\n",
    "print(\"\\na.\")\n",
    "interplolate(a,ax)\n",
    "\n",
    "b = np.array([[-0.75,-0.5,-0.25,0],[-0.07181250, -0.02475000,0.33493750,1.10100000]]);\n",
    "bx = -1/3;\n",
    "print(\"\\nb.\")\n",
    "interplolate(b,bx)\n",
    "\n",
    "c = np.array([[0.1,0.2,0.3,0.4],[0.62049958,-0.28398668,0.00660095,0.24842440]]);\n",
    "cx = 0.25;\n",
    "print(\"\\nc.\")\n",
    "interplolate(c,cx)\n",
    "\n",
    "d = np.array([[0.6,0.7,0.8,1.0],[-0.17694460,0.01375227,0.22363362,0.65809197]]);\n",
    "dx = 0.9;\n",
    "print(\"\\nd.\")\n",
    "interplolate(d,dx)"
   ]
  },
  {
   "cell_type": "code",
   "execution_count": 36,
   "id": "a0d10d51",
   "metadata": {},
   "outputs": [
    {
     "name": "stdout",
     "output_type": "stream",
     "text": [
      "\n",
      "d.\n",
      "3 : x = [0.  0.5 1.  2. ]\n",
      "f(2)= 2.0 coef: [-0.0, 0.0, -0.0, 1.0]\n"
     ]
    }
   ],
   "source": [
    "import numpy as np\n",
    "\n",
    "def lagrange(points, x):\n",
    "    length = len(points[0]);\n",
    "    xl, yl = points;\n",
    "    coef = list();\n",
    "    px = 0;\n",
    "    \n",
    "    for i in range(length):  # 들어갈 점 순회\n",
    "        L = 1;\n",
    "        for j in range(length):\n",
    "            if j != i:\n",
    "                L *= ((x - xl[j])/(xl[i]-xl[j]))\n",
    "        coef.append(L);\n",
    "        px += (L*yl[i]);\n",
    "          \n",
    "    return [coef, px];\n",
    "        \n",
    "\n",
    "def interplolate(points, x):\n",
    "    tcoef, tx = lagrange(points[0:4,0:4], x);\n",
    "\n",
    "    print(\"3 : x = {}\".format(points[0][:4]));\n",
    "    print(\"f({})= {} coef: {}\".format(x, tx, tcoef))\n",
    "\n",
    "\n",
    "d = np.array([[0, 0.5, 1, 2],[0, 4.25, 3, 2]]);\n",
    "dx = 2;\n",
    "print(\"\\nd.\")\n",
    "interplolate(d,dx)"
   ]
  },
  {
   "cell_type": "code",
   "execution_count": 1,
   "id": "ac94ff07",
   "metadata": {},
   "outputs": [
    {
     "name": "stdout",
     "output_type": "stream",
     "text": [
      "\n",
      "a.\n"
     ]
    },
    {
     "ename": "IndexError",
     "evalue": "too many indices for array: array is 1-dimensional, but 2 were indexed",
     "output_type": "error",
     "traceback": [
      "\u001b[1;31m---------------------------------------------------------------------------\u001b[0m",
      "\u001b[1;31mIndexError\u001b[0m                                Traceback (most recent call last)",
      "Input \u001b[1;32mIn [1]\u001b[0m, in \u001b[0;36m<cell line: 48>\u001b[1;34m()\u001b[0m\n\u001b[0;32m     46\u001b[0m ax \u001b[38;5;241m=\u001b[39m \u001b[38;5;241m0.2\u001b[39m;\n\u001b[0;32m     47\u001b[0m \u001b[38;5;28mprint\u001b[39m(\u001b[38;5;124m\"\u001b[39m\u001b[38;5;130;01m\\n\u001b[39;00m\u001b[38;5;124ma.\u001b[39m\u001b[38;5;124m\"\u001b[39m)\n\u001b[1;32m---> 48\u001b[0m \u001b[43minterplolate\u001b[49m\u001b[43m(\u001b[49m\u001b[43ma\u001b[49m\u001b[43m,\u001b[49m\u001b[43max\u001b[49m\u001b[43m)\u001b[49m\n\u001b[0;32m     50\u001b[0m b \u001b[38;5;241m=\u001b[39m np\u001b[38;5;241m.\u001b[39marray([[\u001b[38;5;241m-\u001b[39m\u001b[38;5;241m0.75\u001b[39m,\u001b[38;5;241m-\u001b[39m\u001b[38;5;241m0.5\u001b[39m,\u001b[38;5;241m-\u001b[39m\u001b[38;5;241m0.25\u001b[39m,\u001b[38;5;241m0\u001b[39m],[\u001b[38;5;241m-\u001b[39m\u001b[38;5;241m0.07181250\u001b[39m, \u001b[38;5;241m-\u001b[39m\u001b[38;5;241m0.02475000\u001b[39m,\u001b[38;5;241m0.33493750\u001b[39m,\u001b[38;5;241m1.10100000\u001b[39m]]);\n\u001b[0;32m     51\u001b[0m bx \u001b[38;5;241m=\u001b[39m \u001b[38;5;241m-\u001b[39m\u001b[38;5;241m1\u001b[39m\u001b[38;5;241m/\u001b[39m\u001b[38;5;241m3\u001b[39m;\n",
      "Input \u001b[1;32mIn [1]\u001b[0m, in \u001b[0;36minterplolate\u001b[1;34m(points, x)\u001b[0m\n\u001b[0;32m     32\u001b[0m \u001b[38;5;28;01mdef\u001b[39;00m \u001b[38;5;21minterplolate\u001b[39m(points, x):\n\u001b[1;32m---> 33\u001b[0m     fcoef, fx \u001b[38;5;241m=\u001b[39m lagrange(\u001b[43mpoints\u001b[49m\u001b[43m[\u001b[49m\u001b[38;5;241;43m0\u001b[39;49m\u001b[43m:\u001b[49m\u001b[38;5;241;43m2\u001b[39;49m\u001b[43m,\u001b[49m\u001b[38;5;241;43m0\u001b[39;49m\u001b[43m:\u001b[49m\u001b[38;5;241;43m2\u001b[39;49m\u001b[43m]\u001b[49m, x);\n\u001b[0;32m     34\u001b[0m     scoef, sx \u001b[38;5;241m=\u001b[39m lagrange(points[\u001b[38;5;241m0\u001b[39m:\u001b[38;5;241m3\u001b[39m,\u001b[38;5;241m0\u001b[39m:\u001b[38;5;241m3\u001b[39m], x);\n\u001b[0;32m     35\u001b[0m     tcoef, tx \u001b[38;5;241m=\u001b[39m lagrange(points[\u001b[38;5;241m0\u001b[39m:\u001b[38;5;241m4\u001b[39m,\u001b[38;5;241m0\u001b[39m:\u001b[38;5;241m4\u001b[39m], x);\n",
      "\u001b[1;31mIndexError\u001b[0m: too many indices for array: array is 1-dimensional, but 2 were indexed"
     ]
    }
   ],
   "source": [
    "import numpy as np\n",
    "\n",
    "def fa(x):\n",
    "    return np.exp(2*x)*np.cos(3*x);\n",
    "\n",
    "def fb(x):\n",
    "    return np.sin(np.log(x));\n",
    "\n",
    "def fc(x):\n",
    "    return np.log(x);\n",
    "\n",
    "def fd(x):\n",
    "    return np.cos(x) + np.sin(x)\n",
    "\n",
    "def lagrange(points, x):\n",
    "    length = len(points[0]);\n",
    "    xl, yl = points;\n",
    "    coef = list();\n",
    "    px = 0;\n",
    "    \n",
    "    for i in range(length):  # 들어갈 점 순회\n",
    "        L = 1;\n",
    "        for j in range(length):\n",
    "            if j != i:\n",
    "                L *= ((x - xl[j])/(xl[i]-xl[j]))\n",
    "        coef.append(L);\n",
    "        px += (L*yl[i]);\n",
    "          \n",
    "    return [coef, px];\n",
    "        \n",
    "\n",
    "def interplolate(points, x):\n",
    "    fcoef, fx = lagrange(points[0:2,0:2], x);\n",
    "    scoef, sx = lagrange(points[0:3,0:3], x);\n",
    "    tcoef, tx = lagrange(points[0:4,0:4], x);\n",
    "\n",
    "    print(\"1 : x = {}\".format(points[0][:2]));\n",
    "    print(\"f({})= {} coef: {}\".format(x, fx, fcoef))\n",
    "    print(\"2 : x = {}\".format(points[0][:3]));\n",
    "    print(\"f({})= {} coef: {}\".format(x, sx, scoef))\n",
    "    print(\"3 : x = {}\".format(points[0][:4]));\n",
    "    print(\"f({})= {} coef: {}\".format(x, tx, tcoef))\n",
    "\n",
    "a = np.array([[0, 0.3, 0.6]])\n",
    "a = np.append(a, fa(a));\n",
    "ax = 0.2;\n",
    "print(\"\\na.\")\n",
    "interplolate(a,ax)\n",
    "\n",
    "b = np.array([[-0.75,-0.5,-0.25,0],[-0.07181250, -0.02475000,0.33493750,1.10100000]]);\n",
    "bx = -1/3;\n",
    "print(\"\\nb.\")\n",
    "interplolate(b,bx)\n",
    "\n",
    "c = np.array([[0.1,0.2,0.3,0.4],[0.62049958,-0.28398668,0.00660095,0.24842440]]);\n",
    "cx = 0.25;\n",
    "print(\"\\nc.\")\n",
    "interplolate(c,cx)\n",
    "\n",
    "d = np.array([[0.6,0.7,0.8,1.0],[-0.17694460,0.01375227,0.22363362,0.65809197]]);\n",
    "dx = 0.9;\n",
    "print(\"\\nd.\")\n",
    "interplolate(d,dx)"
   ]
  },
  {
   "cell_type": "code",
   "execution_count": 2,
   "id": "428dee5c",
   "metadata": {},
   "outputs": [
    {
     "name": "stdout",
     "output_type": "stream",
     "text": [
      "[ 1.          1.13264721 -0.75433752]\n"
     ]
    }
   ],
   "source": [
    "def f(x):\n",
    "    return np.exp(2*x)*np.cos(3*x);\n",
    "\n",
    "x = np.array([0,0.3,0.6]);\n",
    "print(f(x))"
   ]
  },
  {
   "cell_type": "code",
   "execution_count": null,
   "id": "03cf127d",
   "metadata": {},
   "outputs": [],
   "source": []
  }
 ],
 "metadata": {
  "kernelspec": {
   "display_name": "Python 3 (ipykernel)",
   "language": "python",
   "name": "python3"
  },
  "language_info": {
   "codemirror_mode": {
    "name": "ipython",
    "version": 3
   },
   "file_extension": ".py",
   "mimetype": "text/x-python",
   "name": "python",
   "nbconvert_exporter": "python",
   "pygments_lexer": "ipython3",
   "version": "3.10.7"
  }
 },
 "nbformat": 4,
 "nbformat_minor": 5
}
